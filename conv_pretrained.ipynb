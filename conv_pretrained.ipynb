{
  "cells": [
    {
      "metadata": {
        "_uuid": "8f2839f25d086af736a60e9eeb907d3b93b6e0e5",
        "_cell_guid": "b1076dfc-b9ad-4769-8c92-a6c4dae69d19",
        "trusted": true,
        "_kg_hide-output": false,
        "_kg_hide-input": false
      },
      "cell_type": "code",
      "source": "from keras.applications import VGG16\n\nconv_base = VGG16(weights='imagenet',\n                 include_top=False,\n                 input_shape=(150, 150, 3))\n\nconv_base.summary()",
      "execution_count": null,
      "outputs": []
    },
    {
      "metadata": {
        "_cell_guid": "79c7e3d0-c299-4dcb-8224-4455121ee9b0",
        "_uuid": "d629ff2d2480ee46fbb7e2d37f6b5fab8052498a",
        "trusted": true
      },
      "cell_type": "code",
      "source": "import os\nimport numpy as np\nfrom keras.preprocessing.image import ImageDataGenerator",
      "execution_count": null,
      "outputs": []
    },
    {
      "metadata": {
        "trusted": true,
        "_uuid": "f5bf22033443209a98ab11666631b7cc8a22530d"
      },
      "cell_type": "code",
      "source": "os.listdir('../input')",
      "execution_count": null,
      "outputs": []
    },
    {
      "metadata": {
        "trusted": true,
        "_uuid": "a4e0ba4e0e3f696cc7d441d6faf988560ea2086b"
      },
      "cell_type": "code",
      "source": "original_dataset_dir = \"../input/train\"\nbase_dir = \"cats_and_dogs_small\"\nos.mkdir(base_dir)\n!ls",
      "execution_count": null,
      "outputs": []
    },
    {
      "metadata": {
        "trusted": true,
        "_uuid": "8d2c706487d7fef5215d5a40b35515d650410c25"
      },
      "cell_type": "code",
      "source": "train_dir = os.path.join(base_dir, 'train')\nos.mkdir(train_dir)\n!ls cats_and_dogs_small",
      "execution_count": null,
      "outputs": []
    },
    {
      "metadata": {
        "trusted": true,
        "_uuid": "3a9e3760ad81321e22f7c99efb1db0fa469b2ab9"
      },
      "cell_type": "code",
      "source": "validation_dir = os.path.join(base_dir, 'validation')\nos.mkdir(validation_dir)\n!ls cats_and_dogs_small",
      "execution_count": null,
      "outputs": []
    },
    {
      "metadata": {
        "trusted": true,
        "_uuid": "2684ca78a54ea831c76e55a0b3854efcbb1e468c"
      },
      "cell_type": "code",
      "source": "test_dir = os.path.join(base_dir, 'test')\nos.mkdir(test_dir)\n!ls cats_and_dogs_small",
      "execution_count": null,
      "outputs": []
    },
    {
      "metadata": {
        "trusted": true,
        "_uuid": "502e7fe762f1969e5cee9d4efed52a195740d995"
      },
      "cell_type": "code",
      "source": "original_dataset_dir = \"../input/train/train\"\n!ls ../input/train/train",
      "execution_count": null,
      "outputs": []
    },
    {
      "metadata": {
        "trusted": true,
        "_uuid": "d77efb51d58a83740c94d7a7f3c20c8fafaae077"
      },
      "cell_type": "code",
      "source": "train_cats_dir = os.path.join(train_dir, 'cats')\nos.mkdir(train_cats_dir)\n\ntrain_dogs_dir = os.path.join(train_dir, 'dogs')\nos.mkdir(train_dogs_dir)\n\n!ls cats_and_dogs_small/train",
      "execution_count": null,
      "outputs": []
    },
    {
      "metadata": {
        "trusted": true,
        "_uuid": "0256d7a634d48efda1f94f8879cdef31c1c4d9c9"
      },
      "cell_type": "code",
      "source": "validation_cats_dir = os.path.join(validation_dir, 'cats')\nos.mkdir(validation_cats_dir)\n\nvalidation_dogs_dir = os.path.join(validation_dir, 'dogs')\nos.mkdir(validation_dogs_dir)\n\n!ls cats_and_dogs_small/validation",
      "execution_count": null,
      "outputs": []
    },
    {
      "metadata": {
        "trusted": true,
        "_uuid": "3d50ab872e4c5a0184a34ae3fbe00ac3b8133f9e"
      },
      "cell_type": "code",
      "source": "test_cats_dir = os.path.join(test_dir, 'cats')\nos.mkdir(test_cats_dir)\n\ntest_dogs_dir = os.path.join(test_dir, 'dogs')\nos.mkdir(test_dogs_dir)\n\n!ls cats_and_dogs_small/test",
      "execution_count": null,
      "outputs": []
    },
    {
      "metadata": {
        "trusted": true,
        "_uuid": "8ac9060adf5236f21a59da8d48e314220074d633"
      },
      "cell_type": "code",
      "source": "import shutil\nfnames = ['cat.{}.jpg'.format(i) for i in range(1000)]\nfor fname in fnames:\n    src = os.path.join(original_dataset_dir, fname)\n    dst = os.path.join(train_cats_dir, fname)\n    shutil.copyfile(src, dst)\n\nfnames = ['cat.{}.jpg'.format(i) for i in range(1000, 1500)]\nfor fname in fnames:\n    src = os.path.join(original_dataset_dir, fname)\n    dst = os.path.join(validation_cats_dir, fname)\n    shutil.copyfile(src, dst)\n    \nfnames = ['cat.{}.jpg'.format(i) for i in range(1500, 2000)]\nfor fname in fnames:\n    src = os.path.join(original_dataset_dir, fname)\n    dst = os.path.join(test_cats_dir, fname)\n    shutil.copyfile(src, dst)\n    \nfnames = ['dog.{}.jpg'.format(i) for i in range(1000)]\nfor fname in fnames:\n    src = os.path.join(original_dataset_dir, fname)\n    dst = os.path.join(train_dogs_dir, fname)\n    shutil.copyfile(src, dst)\n    \nfnames = ['dog.{}.jpg'.format(i) for i in range(1000, 1500)]\nfor fname in fnames:\n    src = os.path.join(original_dataset_dir, fname)\n    dst = os.path.join(validation_dogs_dir, fname)\n    shutil.copyfile(src, dst)\n    \nfnames = ['dog.{}.jpg'.format(i) for i in range(1500, 2000)]\nfor fname in fnames:\n    src = os.path.join(original_dataset_dir, fname)\n    dst = os.path.join(test_dogs_dir, fname)\n    shutil.copyfile(src, dst)",
      "execution_count": null,
      "outputs": []
    },
    {
      "metadata": {
        "trusted": true,
        "_uuid": "825f7b8ac55fd0ab83b0f984203dd3ca6a91d300"
      },
      "cell_type": "code",
      "source": "print(len(os.listdir(train_cats_dir)))\nprint(len(os.listdir(validation_cats_dir)))\nprint(len(os.listdir(test_cats_dir)))\nprint(len(os.listdir(train_dogs_dir)))\nprint(len(os.listdir(validation_cats_dir)))\nprint(len(os.listdir(test_cats_dir)))",
      "execution_count": null,
      "outputs": []
    },
    {
      "metadata": {
        "trusted": true,
        "_uuid": "fbcc0ce19962d07b1f36f5c8752763d32d07e7b9"
      },
      "cell_type": "code",
      "source": "datagen = ImageDataGenerator(rescale=1./255)\nbatch_size = 20",
      "execution_count": null,
      "outputs": []
    },
    {
      "metadata": {
        "trusted": true,
        "_uuid": "94713c410acbf11ded530c922af866cc79b18337"
      },
      "cell_type": "code",
      "source": "def extract_features(directory, sample_count):\n    features = np.zeros(shape=(sample_count, 4, 4, 512))\n    labels = np.zeros(shape=(sample_count))\n    \n    generator = datagen.flow_from_directory(\n        directory,\n        target_size=(150, 150),\n        batch_size=batch_size,\n        class_mode='binary'\n    )\n    \n    i = 0\n    for inputs_batch, labels_batch in generator:\n        features_batch = conv_base.predict(inputs_batch)\n        features[i*batch_size : (i+1)*batch_size] = features_batch\n        labels[i*batch_size : (i+1)*batch_size] = labels_batch\n        \n        i = i+1\n        if i * batch_size >= sample_count:\n            break\n    \n    return features, labels",
      "execution_count": null,
      "outputs": []
    },
    {
      "metadata": {
        "trusted": true,
        "_uuid": "ff46677f5a09090d42ffe3c9677b7a085d205f3c"
      },
      "cell_type": "code",
      "source": "train_features, train_labels = extract_features(train_dir, 2000)\nvalidation_features, validation_labels = extract_features(validation_dir, 1000)\ntest_features, test_labels = extract_features(test_dir, 1000)",
      "execution_count": null,
      "outputs": []
    },
    {
      "metadata": {
        "trusted": true,
        "_uuid": "fe361b1de102ad611b89b0750c7b6aa570439a4c"
      },
      "cell_type": "code",
      "source": "train_features = np.reshape(train_features, (2000, 4*4*512))\nvalidation_features = np.reshape(validation_features, (1000, 4*4*512))\ntest_features = np.reshape(test_features, (1000, 4*4*512))",
      "execution_count": null,
      "outputs": []
    },
    {
      "metadata": {
        "trusted": true,
        "_uuid": "2c912204078d76a574b57adf8403d4f11ecbc0dd"
      },
      "cell_type": "code",
      "source": "from keras import models\nfrom keras import layers, optimizers\n\nmodel = models.Sequential()\nmodel.add(layers.Dense(256, activation='relu', input_dim = 4*4*512))\nmodel.add(layers.Dropout(0.5))\nmodel.add(layers.Dense(1, activation='sigmoid'))\n\nmodel.compile(optimizer=optimizers.RMSprop(lr=2e-5),\n             loss='binary_crossentropy',\n             metrics=['acc'])\nhistory = model.fit(train_features, train_labels,\n                   epochs=30, batch_size=20,\n                   validation_data = (validation_features, validation_labels))",
      "execution_count": null,
      "outputs": []
    },
    {
      "metadata": {
        "trusted": true,
        "_uuid": "62c01f5e682def4b58c1c44ad634f83fe5d19dda"
      },
      "cell_type": "code",
      "source": "import matplotlib.pyplot as plt\n\nacc = history.history['acc']\nval_acc = history.history['val_acc']\nloss =  history.history['loss']\nval_loss = history.history['val_loss']\n\nepochs = range(len(acc))\n\nplt.plot(epochs, acc, 'bo', label='training acc')\nplt.plot(epochs, val_acc, 'b', label='val acc')\nplt.legend()\nplt.show()\n\nplt.figure()\n\nplt.plot(epochs, loss, 'bo', label='training loss')\nplt.plot(epochs, val_loss, 'b', label='val loss')\nplt.legend()\nplt.show()",
      "execution_count": null,
      "outputs": []
    },
    {
      "metadata": {
        "trusted": true,
        "_uuid": "98d94b34177f27758d4bea87abdb5a6e69be36da"
      },
      "cell_type": "code",
      "source": "model = models.Sequential()\nmodel.add(conv_base)\nmodel.add(layers.Flatten())\nmodel.add(layers.Dense(256, activation='relu'))\nmodel.add(layers.Dense(1, activation='sigmoid'))\n\nmodel.summary()",
      "execution_count": null,
      "outputs": []
    },
    {
      "metadata": {
        "trusted": true,
        "_uuid": "c1a1ae8678f0d2229803ef9999accd201e539400"
      },
      "cell_type": "code",
      "source": "len(model.trainable_weights)",
      "execution_count": null,
      "outputs": []
    },
    {
      "metadata": {
        "trusted": true,
        "_uuid": "f3abe081518c5f0abbe6b1db571929be00edb4af"
      },
      "cell_type": "code",
      "source": "conv_base.trainable = False\nlen(model.trainable_weights)",
      "execution_count": null,
      "outputs": []
    },
    {
      "metadata": {
        "trusted": true,
        "_uuid": "55c6fe18a94f78d16cbc961019fdc57b3c7f747b"
      },
      "cell_type": "code",
      "source": "from keras.preprocessing.image import ImageDataGenerator\n\ntrain_datagen = ImageDataGenerator(\n      rescale=1./255,\n      rotation_range=40,\n      width_shift_range=0.2,\n      height_shift_range=0.2,\n      shear_range=0.2,\n      zoom_range=0.2,\n      horizontal_flip=True,\n      fill_mode='nearest')\n\ntest_datagen = ImageDataGenerator(rescale=1./255)\n\ntrain_generator = train_datagen.flow_from_directory(\n        train_dir,\n        target_size=(150, 150),\n        batch_size=20,\n        class_mode='binary')\n\nvalidation_generator = test_datagen.flow_from_directory(\n        validation_dir,\n        target_size=(150, 150),\n        batch_size=20,\n        class_mode='binary')\n\nmodel.compile(loss='binary_crossentropy',\n              optimizer=optimizers.RMSprop(lr=2e-5),\n              metrics=['acc'])\n\nhistory = model.fit_generator(\n      train_generator,\n      steps_per_epoch=100,\n      epochs=30,\n      validation_data=validation_generator,\n      validation_steps=50,\n      verbose=2)",
      "execution_count": null,
      "outputs": []
    },
    {
      "metadata": {
        "trusted": true,
        "_uuid": "7749e5126ba007c6f7c28d072c45a786aa2f6f82"
      },
      "cell_type": "code",
      "source": "acc = history.history['acc']\nval_acc = history.history['val_acc']\nloss = history.history['loss']\nval_loss = history.history['val_loss']\n\nepochs = range(len(acc))\n\nplt.plot(epochs, acc, 'bo', label='Training acc')\nplt.plot(epochs, val_acc, 'b', label='Validation acc')\nplt.title('Training and validation accuracy')\nplt.legend()\n\nplt.figure()\n\nplt.plot(epochs, loss, 'bo', label='Training loss')\nplt.plot(epochs, val_loss, 'b', label='Validation loss')\nplt.title('Training and validation loss')\nplt.legend()\n\nplt.show()",
      "execution_count": null,
      "outputs": []
    },
    {
      "metadata": {
        "trusted": true,
        "_uuid": "21b7c96cca344a6cd0888eba71b3eb9c16536d81"
      },
      "cell_type": "code",
      "source": "conv_base.trainable = True\n\nset_trainable = False\n\nfor layer in conv_base.layers:\n    if layer.name == 'block5_conv1':\n        set_trainable = True\n    if set_trainable:\n        layer.trainable = True\n    else:\n        layer.trainable = False",
      "execution_count": null,
      "outputs": []
    },
    {
      "metadata": {
        "trusted": true,
        "scrolled": true,
        "_uuid": "05a1cdd9454d47a9f8b809c0269057f5119dd301"
      },
      "cell_type": "code",
      "source": "model.compile(loss = 'binary_crossentropy',\n             optimizerszerszer = optimizers.RMSprop(lr=1e-5),\n             metrics = ['acc'])\nhistory = model.fit_generator(\n    train_generator,\n    steps_per_epoch=100,\n    epochs=100,\n    validation_data = validation_generator,\n    validation_steps=50\n)",
      "execution_count": null,
      "outputs": []
    },
    {
      "metadata": {
        "trusted": true,
        "_uuid": "927cf672510dbd2173039e6ec81c3dd784d50644"
      },
      "cell_type": "code",
      "source": "acc = history.history['acc']\nval_acc = history.history['val_acc']\nloss = history.history['loss']\nval_loss = history.history['val_loss']\n\nepochs = range(len(acc))\ndef smooth_curve(points, factor=0.8):\n  smoothed_points = []\n  for point in points:\n    if smoothed_points:\n      previous = smoothed_points[-1]\n      smoothed_points.append(previous * factor + point * (1 - factor))\n    else:\n      smoothed_points.append(point)\n  return smoothed_points\n\nplt.plot(epochs,\n         smooth_curve(acc), 'bo', label='Smoothed training acc')\nplt.plot(epochs,\n         smooth_curve(val_acc), 'b', label='Smoothed validation acc')\nplt.title('Training and validation accuracy')\nplt.legend()\n\nplt.figure()\n\nplt.plot(epochs,\n         smooth_curve(loss), 'bo', label='Smoothed training loss')\nplt.plot(epochs,\n         smooth_curve(val_loss), 'b', label='Smoothed validation loss')\nplt.title('Training and validation loss')\nplt.legend()\n\nplt.show()",
      "execution_count": null,
      "outputs": []
    },
    {
      "metadata": {
        "trusted": true,
        "_uuid": "9276d37c8060204d2dbb8d2594f0b5722613e82b"
      },
      "cell_type": "code",
      "source": "test_generator = test_datagen.flow_from_directory(\n    test_dir,\n    target_size=(150,150),\n    batch_size=20,\n    class_mode='binary',\n)\ntest_loss, test_acc = model.evaluate_generator(test_generator, steps=50)\ntest_acc",
      "execution_count": null,
      "outputs": []
    },
    {
      "metadata": {
        "trusted": true,
        "_uuid": "fb3bcf5a4fda7f15a9186409b686907a8258ab2e"
      },
      "cell_type": "code",
      "source": "",
      "execution_count": null,
      "outputs": []
    }
  ],
  "metadata": {
    "kernelspec": {
      "display_name": "Python 3",
      "language": "python",
      "name": "python3"
    },
    "language_info": {
      "name": "python",
      "version": "3.6.6",
      "mimetype": "text/x-python",
      "codemirror_mode": {
        "name": "ipython",
        "version": 3
      },
      "pygments_lexer": "ipython3",
      "nbconvert_exporter": "python",
      "file_extension": ".py"
    }
  },
  "nbformat": 4,
  "nbformat_minor": 1
}