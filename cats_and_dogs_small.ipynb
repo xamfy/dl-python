{
  "cells": [
    {
      "metadata": {
        "id": "defeh-J4rmh2",
        "colab_type": "code",
        "outputId": "d2fb0fba-61fb-4012-eb71-762b977c3480",
        "colab": {
          "base_uri": "https://localhost:8080/",
          "height": 51
        },
        "trusted": true,
        "_uuid": "d8479024dac08d9d0282eb3c250debaee2bbd34a"
      },
      "cell_type": "code",
      "source": "!ls\nimport os\nprint(os.listdir('../input'))",
      "execution_count": null,
      "outputs": []
    },
    {
      "metadata": {
        "id": "Oh6r6qmgtNlk",
        "colab_type": "code",
        "outputId": "365b0a30-80fa-4d56-ea28-1314316d4d5f",
        "colab": {
          "base_uri": "https://localhost:8080/",
          "height": 51
        },
        "trusted": true,
        "_uuid": "c237e4e831d2a199ffc457c284aa32bc85cfbd4d"
      },
      "cell_type": "code",
      "source": "!ls",
      "execution_count": null,
      "outputs": []
    },
    {
      "metadata": {
        "id": "ozYm60HKtsrj",
        "colab_type": "code",
        "colab": {},
        "trusted": true,
        "_uuid": "2aa2c22ce7c7ed1fbdfb532afa3d03035e7b6f26"
      },
      "cell_type": "code",
      "source": "import os, shutil",
      "execution_count": null,
      "outputs": []
    },
    {
      "metadata": {
        "trusted": true,
        "_uuid": "c76d09276b46e5a4dfe7fc36d0b499c81cf7ef2c"
      },
      "cell_type": "code",
      "source": "print(os.listdir('../input'))",
      "execution_count": null,
      "outputs": []
    },
    {
      "metadata": {
        "id": "AS6MKGUstyU1",
        "colab_type": "code",
        "outputId": "336cee10-b767-499d-ec5a-1f3e0fbc49fc",
        "colab": {
          "base_uri": "https://localhost:8080/",
          "height": 51
        },
        "trusted": true,
        "_uuid": "5479bb3ba380ef41393885b9b1601191fa1cc7c6"
      },
      "cell_type": "code",
      "source": "\noriginal_dataset_dir = \"../input/train\"\nbase_dir = \"cats_and_dogs_small\"\nos.mkdir(base_dir)\n!ls",
      "execution_count": null,
      "outputs": []
    },
    {
      "metadata": {
        "id": "Clu6N5DhuVuP",
        "colab_type": "code",
        "outputId": "5219bab9-04f5-4a41-874c-0505efe18c2c",
        "colab": {
          "base_uri": "https://localhost:8080/",
          "height": 34
        },
        "trusted": true,
        "_uuid": "9acd55616263e37257c6ced3cb8de559be5924aa"
      },
      "cell_type": "code",
      "source": "train_dir = os.path.join(base_dir, 'train')\nos.mkdir(train_dir)\n!ls cats_and_dogs_small",
      "execution_count": null,
      "outputs": []
    },
    {
      "metadata": {
        "id": "bye3UpXCvOTg",
        "colab_type": "code",
        "outputId": "269a6878-338f-462c-a116-97e879d7adfb",
        "colab": {
          "base_uri": "https://localhost:8080/",
          "height": 34
        },
        "trusted": true,
        "_uuid": "0ce816bd30b308751936fa86731bf37ca5169e9d"
      },
      "cell_type": "code",
      "source": "validation_dir = os.path.join(base_dir, 'validation')\nos.mkdir(validation_dir)\n!ls cats_and_dogs_small",
      "execution_count": null,
      "outputs": []
    },
    {
      "metadata": {
        "id": "XIJ65-MMvgX2",
        "colab_type": "code",
        "outputId": "ba7e3f91-8d5f-4d57-c734-7451cd610faf",
        "colab": {
          "base_uri": "https://localhost:8080/",
          "height": 34
        },
        "trusted": true,
        "_uuid": "95d1d32a3078f1516a07486157eae32d904824cd"
      },
      "cell_type": "code",
      "source": "test_dir = os.path.join(base_dir, 'test')\nos.mkdir(test_dir)\n!ls cats_and_dogs_small",
      "execution_count": null,
      "outputs": []
    },
    {
      "metadata": {
        "id": "KkdhZ8ABx4gM",
        "colab_type": "code",
        "outputId": "6910e81c-6bad-45d8-d83b-26d085457e72",
        "colab": {
          "base_uri": "https://localhost:8080/",
          "height": 34
        },
        "trusted": true,
        "_uuid": "2d9fc62e650df4c0297397b9814bf5b716ac2f6b"
      },
      "cell_type": "code",
      "source": "train_cats_dir = os.path.join(train_dir, 'cats')\nos.mkdir(train_cats_dir)\n\ntrain_dogs_dir = os.path.join(train_dir, 'dogs')\nos.mkdir(train_dogs_dir)\n\n!ls cats_and_dogs_small/train",
      "execution_count": null,
      "outputs": []
    },
    {
      "metadata": {
        "id": "2z_2wpR8yNb2",
        "colab_type": "code",
        "outputId": "493959a8-9096-4f40-9cc4-3114e98a774b",
        "colab": {
          "base_uri": "https://localhost:8080/",
          "height": 34
        },
        "trusted": true,
        "_uuid": "b0b81f52fc5148acc499b0df1840159c28d9a7ff"
      },
      "cell_type": "code",
      "source": "validation_cats_dir = os.path.join(validation_dir, 'cats')\nos.mkdir(validation_cats_dir)\n\nvalidation_dogs_dir = os.path.join(validation_dir, 'dogs')\nos.mkdir(validation_dogs_dir)\n\n!ls cats_and_dogs_small/validation",
      "execution_count": null,
      "outputs": []
    },
    {
      "metadata": {
        "id": "ou1eW1WRydyW",
        "colab_type": "code",
        "outputId": "ac2de42d-74b9-427e-811a-5229ab2e7264",
        "colab": {
          "base_uri": "https://localhost:8080/",
          "height": 34
        },
        "trusted": true,
        "_uuid": "df0d5d29f842998b77bc82e47c14afb3ede5a2e7"
      },
      "cell_type": "code",
      "source": "test_cats_dir = os.path.join(test_dir, 'cats')\nos.mkdir(test_cats_dir)\n\ntest_dogs_dir = os.path.join(test_dir, 'dogs')\nos.mkdir(test_dogs_dir)\n\n!ls cats_and_dogs_small/test",
      "execution_count": null,
      "outputs": []
    },
    {
      "metadata": {
        "id": "HEr6U7kTy3GX",
        "colab_type": "code",
        "colab": {},
        "trusted": true,
        "_uuid": "a26204e8b11243b19cf9455b670136d51d92732c"
      },
      "cell_type": "code",
      "source": "original_dataset_dir = \"../input/train/train\"",
      "execution_count": null,
      "outputs": []
    },
    {
      "metadata": {
        "trusted": true,
        "_uuid": "da94f8e892b3191ef5b5e7fd77164f5e614f3460"
      },
      "cell_type": "code",
      "source": "!ls ../input/train/train",
      "execution_count": null,
      "outputs": []
    },
    {
      "metadata": {
        "id": "NYoemVavzYPZ",
        "colab_type": "code",
        "colab": {},
        "trusted": true,
        "_uuid": "b847db619ed567033203c720e5460a4d52df5c28"
      },
      "cell_type": "code",
      "source": "fnames = ['cat.{}.jpg'.format(i) for i in range(1000)]\nfor fname in fnames:\n    src = os.path.join(original_dataset_dir, fname)\n    dst = os.path.join(train_cats_dir, fname)\n    shutil.copyfile(src, dst)\n\nfnames = ['cat.{}.jpg'.format(i) for i in range(1000, 1500)]\nfor fname in fnames:\n    src = os.path.join(original_dataset_dir, fname)\n    dst = os.path.join(validation_cats_dir, fname)\n    shutil.copyfile(src, dst)\n    \nfnames = ['cat.{}.jpg'.format(i) for i in range(1500, 2000)]\nfor fname in fnames:\n    src = os.path.join(original_dataset_dir, fname)\n    dst = os.path.join(test_cats_dir, fname)\n    shutil.copyfile(src, dst)",
      "execution_count": null,
      "outputs": []
    },
    {
      "metadata": {
        "id": "4fK1141Oz4ZK",
        "colab_type": "code",
        "colab": {},
        "trusted": true,
        "_uuid": "dd304c49dbec4e1fbbe4c82498a27d0f9038f78e"
      },
      "cell_type": "code",
      "source": "fnames = ['dog.{}.jpg'.format(i) for i in range(1000)]\nfor fname in fnames:\n    src = os.path.join(original_dataset_dir, fname)\n    dst = os.path.join(train_dogs_dir, fname)\n    shutil.copyfile(src, dst)\n    \nfnames = ['dog.{}.jpg'.format(i) for i in range(1000, 1500)]\nfor fname in fnames:\n    src = os.path.join(original_dataset_dir, fname)\n    dst = os.path.join(validation_dogs_dir, fname)\n    shutil.copyfile(src, dst)\n    \nfnames = ['dog.{}.jpg'.format(i) for i in range(1500, 2000)]\nfor fname in fnames:\n    src = os.path.join(original_dataset_dir, fname)\n    dst = os.path.join(test_dogs_dir, fname)\n    shutil.copyfile(src, dst)",
      "execution_count": null,
      "outputs": []
    },
    {
      "metadata": {
        "id": "FJWp746y0dkQ",
        "colab_type": "code",
        "outputId": "75c67a1b-2daa-4d1d-8dcd-da596f143eae",
        "colab": {
          "base_uri": "https://localhost:8080/",
          "height": 119
        },
        "trusted": true,
        "_uuid": "5ca5e12a6b0d1f4e9ac38dfcabc5df35fa1bfe39"
      },
      "cell_type": "code",
      "source": "print(len(os.listdir(train_cats_dir)))\nprint(len(os.listdir(validation_cats_dir)))\nprint(len(os.listdir(test_cats_dir)))\nprint(len(os.listdir(train_dogs_dir)))\nprint(len(os.listdir(validation_cats_dir)))\nprint(len(os.listdir(test_cats_dir)))",
      "execution_count": null,
      "outputs": []
    },
    {
      "metadata": {
        "id": "Gze4cMOw1Ivh",
        "colab_type": "text",
        "_uuid": "aab18c5d8d91b4198b9ea68138ae19c3c9341045"
      },
      "cell_type": "markdown",
      "source": "# Model"
    },
    {
      "metadata": {
        "id": "JQeeIibj1C9_",
        "colab_type": "code",
        "colab": {},
        "trusted": true,
        "_uuid": "aa43daec49a34b7d25b47f790341741ed8bdc495"
      },
      "cell_type": "code",
      "source": "from keras import layers\nfrom keras import models\n\nmodel = models.Sequential()\nmodel.add(layers.Conv2D(32, (3, 3), activation='relu',\n                        input_shape=(150, 150, 3)))\nmodel.add(layers.MaxPooling2D((2, 2)))\nmodel.add(layers.Conv2D(64, (3, 3), activation='relu'))\nmodel.add(layers.MaxPooling2D((2, 2)))\nmodel.add(layers.Conv2D(128, (3, 3), activation='relu'))\nmodel.add(layers.MaxPooling2D((2, 2)))\nmodel.add(layers.Conv2D(128, (3, 3), activation='relu'))\nmodel.add(layers.MaxPooling2D((2, 2)))\nmodel.add(layers.Flatten())\nmodel.add(layers.Dense(512, activation='relu'))\nmodel.add(layers.Dense(1, activation='sigmoid'))",
      "execution_count": null,
      "outputs": []
    },
    {
      "metadata": {
        "id": "qyk4O0Jx1fi4",
        "colab_type": "code",
        "outputId": "27b3cd2d-a08f-403d-c60f-9245c8c7d4bb",
        "colab": {
          "base_uri": "https://localhost:8080/",
          "height": 510
        },
        "trusted": true,
        "_uuid": "ac1aa5acdcd9719418739de30af8078be55fb97d"
      },
      "cell_type": "code",
      "source": "model.summary()",
      "execution_count": null,
      "outputs": []
    },
    {
      "metadata": {
        "id": "RD99DDoP23jz",
        "colab_type": "code",
        "colab": {},
        "trusted": true,
        "_uuid": "a027b695090100ec21db8a4ca9f7e11c619ac754"
      },
      "cell_type": "code",
      "source": "from keras import optimizers\n\nmodel.compile(loss='binary_crossentropy',\n             optimizer = optimizers.RMSprop(lr=1e-4),\n             metrics=['acc'])",
      "execution_count": null,
      "outputs": []
    },
    {
      "metadata": {
        "id": "p5er_1J83Oxn",
        "colab_type": "code",
        "outputId": "6679424c-7088-450f-dad3-00be56a6b54a",
        "colab": {
          "base_uri": "https://localhost:8080/",
          "height": 51
        },
        "trusted": true,
        "_uuid": "fee3aebfdc4c5a79804a0b30c69a753d8446353c"
      },
      "cell_type": "code",
      "source": "from keras.preprocessing.image import ImageDataGenerator\n\ntrain_datagen = ImageDataGenerator(rescale=1./255)\ntest_datagen = ImageDataGenerator(rescale=1./255)\n\ntrain_generator = train_datagen.flow_from_directory(\n        train_dir,\n        target_size=(150, 150),\n        batch_size=20,\n        class_mode='binary')\n\nvalidation_generator = test_datagen.flow_from_directory(\n        validation_dir,\n        target_size=(150, 150),\n        batch_size=20,\n        class_mode='binary')",
      "execution_count": null,
      "outputs": []
    },
    {
      "metadata": {
        "id": "H403OIzc5uZ1",
        "colab_type": "code",
        "outputId": "c49cc29e-1284-44de-883f-302b24bc48ae",
        "colab": {
          "base_uri": "https://localhost:8080/",
          "height": 51
        },
        "trusted": true,
        "_uuid": "bf578f86282f525c15d0b052185514002a58cc6b"
      },
      "cell_type": "code",
      "source": "for data_batch, labels_batch in train_generator:\n  print('data batch shape', data_batch.shape)\n  print('labels batch shape', labels_batch.shape)  \n  break",
      "execution_count": null,
      "outputs": []
    },
    {
      "metadata": {
        "id": "B2ED3_FT7BVd",
        "colab_type": "code",
        "outputId": "9be69a4a-84bc-4060-98c8-8deb48ea88c9",
        "colab": {
          "base_uri": "https://localhost:8080/",
          "height": 1037
        },
        "trusted": true,
        "_uuid": "5b304f9b2c6d27ec5ee22e69675f50fca734f6af"
      },
      "cell_type": "code",
      "source": "history = model.fit_generator(\n      train_generator,\n      steps_per_epoch=100,\n      epochs=30,\n      validation_data=validation_generator,\n      validation_steps=50)",
      "execution_count": null,
      "outputs": []
    },
    {
      "metadata": {
        "id": "3MOeru-C7dvJ",
        "colab_type": "code",
        "colab": {},
        "trusted": true,
        "_uuid": "92c5dfbbc6180c75f85b7756eafe057bf3a73752"
      },
      "cell_type": "code",
      "source": "model.save('cats_and_dogs_small_1.h5')",
      "execution_count": null,
      "outputs": []
    },
    {
      "metadata": {
        "id": "UDExWCrj8vBn",
        "colab_type": "code",
        "outputId": "b5bd4b07-ffbb-4a35-db3c-089023e3ee5f",
        "colab": {
          "base_uri": "https://localhost:8080/",
          "height": 68
        },
        "trusted": true,
        "_uuid": "323273b76028fe246fb2e855edbb0e407d88c5b6"
      },
      "cell_type": "code",
      "source": "!ls",
      "execution_count": null,
      "outputs": []
    },
    {
      "metadata": {
        "id": "4RAk91-o8w2T",
        "colab_type": "code",
        "outputId": "aacc3882-f6d5-4aa7-ba22-06ca108ea79c",
        "colab": {
          "base_uri": "https://localhost:8080/",
          "height": 707
        },
        "trusted": true,
        "_uuid": "28499c125ff317691b67950f2d2f79f4f5f75999"
      },
      "cell_type": "code",
      "source": "import matplotlib.pyplot as plt\n\nacc = history.history['acc']\nval_acc = history.history['val_acc']\nloss = history.history['loss']\nval_loss = history.history['val_loss']\n\nepochs = range(len(acc))\n\nplt.plot(epochs, acc, 'bo', label='Training acc')\nplt.plot(epochs, val_acc, 'b', label='Validation acc')\nplt.title('Training and validation accuracy')\nplt.legend()\n\nplt.figure()\n\nplt.plot(epochs, loss, 'bo', label='Training loss')\nplt.plot(epochs, val_loss, 'b', label='Validation loss')\nplt.title('Training and validation loss')\nplt.legend()\n\nplt.show()",
      "execution_count": null,
      "outputs": []
    },
    {
      "metadata": {
        "id": "aKoi3y0P9sVT",
        "colab_type": "text",
        "_uuid": "0324546c6e6410d43390a4791eedb430e72bfd27"
      },
      "cell_type": "markdown",
      "source": "# Data augmentation"
    },
    {
      "metadata": {
        "id": "eIZmeCfqABTL",
        "colab_type": "code",
        "colab": {},
        "trusted": true,
        "_uuid": "866bbe7b558a77086f00fb1e7ab4aacf0993fbff"
      },
      "cell_type": "code",
      "source": "datagen = ImageDataGenerator(\n    rotation_range=40,\n    width_shift_range=0.2,\n    height_shift_range=0.2,\n    shear_range=0.2,\n    zoom_range=0.2,\n    horizontal_flip=True,\n    fill_mode='nearest'\n)",
      "execution_count": null,
      "outputs": []
    },
    {
      "metadata": {
        "id": "4EJNVbSUAzzR",
        "colab_type": "code",
        "outputId": "db51431f-632b-4563-a518-3ce5671c5a34",
        "colab": {
          "base_uri": "https://localhost:8080/",
          "height": 1349
        },
        "trusted": true,
        "_uuid": "5a93734c482bf43af6765458e4d69a4c185cc85f"
      },
      "cell_type": "code",
      "source": "from keras.preprocessing import image\n\nfnames = [os.path.join(train_cats_dir, fname) for fname in os.listdir(train_cats_dir)]\n\nimg_path = fnames[3]\n\nimg = image.load_img(img_path, target_size=(150, 150))\nx = image.img_to_array(img)\nx = x.reshape((1,) + x.shape)\n\ni=0\nfor batch in datagen.flow(x, batch_size=1):\n  plt.figure(i)\n  imgplot = plt.imshow(image.array_to_img(batch[0]))\n  i+=1\n  if i%4 == 0:\n    break\n\nplt.show()",
      "execution_count": null,
      "outputs": []
    },
    {
      "metadata": {
        "id": "wdsZc0kyJQrf",
        "colab_type": "code",
        "colab": {},
        "trusted": true,
        "_uuid": "786a8765d62b3463feaa71cef5cc10f7e12ec113"
      },
      "cell_type": "code",
      "source": "from keras.layers import Dropout, Flatten,Dense\nfrom keras.layers.convolutional import Conv2D, MaxPooling2D\n\nmodel = models.Sequential()\n\nmodel.add(Conv2D(32, (3, 3), activation='relu', input_shape=(150, 150, 3)))\nmodel.add(MaxPooling2D((2, 2)))\nmodel.add(Conv2D(64, (3, 3), activation='relu'))\nmodel.add(MaxPooling2D((2, 2)))\nmodel.add(Conv2D(128, (3, 3), activation='relu'))\nmodel.add(MaxPooling2D((2, 2)))\nmodel.add(Conv2D(128, (3, 3), activation='relu'))\nmodel.add(MaxPooling2D((2, 2)))\n\nmodel.add(Flatten())\nmodel.add(Dropout(0.5))\nmodel.add(Dense(512, activation='relu'))\nmodel.add(Dense(1, activation='sigmoid'))",
      "execution_count": null,
      "outputs": []
    },
    {
      "metadata": {
        "id": "phq2yKQ9Kakw",
        "colab_type": "code",
        "colab": {},
        "trusted": true,
        "_uuid": "23276907d2f4c1a5d0cc2379e75b88a832e4c3c9"
      },
      "cell_type": "code",
      "source": "model.compile(loss='binary_crossentropy',\n             optimizer = optimizers.RMSprop(lr=1e-4),\n             metrics=['acc'])",
      "execution_count": null,
      "outputs": []
    },
    {
      "metadata": {
        "id": "-ENwpCI0KglC",
        "colab_type": "code",
        "colab": {},
        "trusted": true,
        "_uuid": "b867dcf5ced071cc38aa6f0431832ffe4d6f0c35"
      },
      "cell_type": "code",
      "source": "train_datagen = ImageDataGenerator(\n    rescale=1./255,\n    rotation_range=40,\n    width_shift_range=0.2,\n    height_shift_range=0.2,\n    shear_range=0.2,\n    zoom_range=0.2,\n    horizontal_flip=True,\n)",
      "execution_count": null,
      "outputs": []
    },
    {
      "metadata": {
        "id": "JXblxX2yLdY_",
        "colab_type": "code",
        "colab": {},
        "trusted": true,
        "_uuid": "00fd1baa39c53885c91271bf048da59cec058cfc"
      },
      "cell_type": "code",
      "source": "test_datagen = ImageDataGenerator(rescale=1./255)",
      "execution_count": null,
      "outputs": []
    },
    {
      "metadata": {
        "id": "uQSj50LuLjwF",
        "colab_type": "code",
        "outputId": "7754990e-f41b-49f2-87db-27bef517aee0",
        "colab": {
          "base_uri": "https://localhost:8080/",
          "height": 51
        },
        "trusted": true,
        "_uuid": "25697e5bb4e26748432e25c67a0cf62ef94dad7c"
      },
      "cell_type": "code",
      "source": "train_generator = train_datagen.flow_from_directory(\n    train_dir,\n    target_size=(150, 150),\n    batch_size=32,\n    class_mode='binary'\n)\n\nvalidation_generator = train_datagen.flow_from_directory(\n    validation_dir,\n    target_size=(150, 150),\n    batch_size=32,\n    class_mode='binary'\n)",
      "execution_count": null,
      "outputs": []
    },
    {
      "metadata": {
        "id": "9ZadyIBaL1A_",
        "colab_type": "code",
        "outputId": "2a700425-b54c-4dfa-8c45-6ecc2dc5e9fc",
        "colab": {
          "base_uri": "https://localhost:8080/",
          "height": 2669
        },
        "trusted": true,
        "_uuid": "d858d3ffd0e86bca976621bc37dc2d7f813acb6b",
        "scrolled": false
      },
      "cell_type": "code",
      "source": "history = model.fit_generator(\n    train_generator,\n    steps_per_epoch=100,\n    epochs=100,\n    validation_data=validation_generator,\n    validation_steps=50\n)",
      "execution_count": null,
      "outputs": []
    },
    {
      "metadata": {
        "id": "bbg3xBbkNWdj",
        "colab_type": "code",
        "colab": {},
        "trusted": true,
        "_uuid": "05745105b13f0570519451aeaf4c714b649a382c"
      },
      "cell_type": "code",
      "source": "model.save('cats_and_dogs_small_2.h5')",
      "execution_count": null,
      "outputs": []
    },
    {
      "metadata": {
        "id": "udir1aN9NZt3",
        "colab_type": "code",
        "colab": {},
        "trusted": true,
        "_uuid": "729c814d6c1b981908451afe6406154d80133650"
      },
      "cell_type": "code",
      "source": "acc = history.history['acc']\nval_acc = history.history['val_acc']\nloss = history.history['loss']\nval_loss = history.history['val_loss']\n\nepochs = range(len(acc))\n\nplt.plot(epochs, acc, 'bo', label='Training acc')\nplt.plot(epochs, val_acc, 'b', label='Validation acc')\nplt.title('Training and validation accuracy')\nplt.legend()\n\nplt.figure()\n\nplt.plot(epochs, loss, 'bo', label='Training loss')\nplt.plot(epochs, val_loss, 'b', label='Validation loss')\nplt.title('Training and validation loss')\nplt.legend()\n\nplt.show()",
      "execution_count": null,
      "outputs": []
    },
    {
      "metadata": {
        "id": "xg8ESa8kPX7a",
        "colab_type": "code",
        "colab": {},
        "trusted": false,
        "_uuid": "35e2ff3f57379c6ec10772d7568e144735a83d2c"
      },
      "cell_type": "markdown",
      "source": "# Visualising what convnets learn"
    },
    {
      "metadata": {
        "trusted": true,
        "_uuid": "a472190e4ee365e1ca3d72b703100683b3c03c5d"
      },
      "cell_type": "code",
      "source": "from keras.models import load_model_model\nmodel = load_model('cats_and_dogs_small_2.h5')\nmodel.summary()",
      "execution_count": null,
      "outputs": []
    },
    {
      "metadata": {
        "trusted": true,
        "_uuid": "437296da7979d1b853d8ca1b0ffd409b195575c6"
      },
      "cell_type": "code",
      "source": "img_path = 'cats_and_dogs_small/test/cats/cat.1700.jpg'\n\nfrom keras.preprocessing import image\nimport numpy as np\n\nimg = image.load_img(img_path, target_size=(150, 150))\nimg_tensor = image.img_to_array(img)\nimg_tensor = np.expand_dims(img_tensor, axis=0)\nimg_tensor /= 255\nimg_tensor.shape",
      "execution_count": null,
      "outputs": []
    },
    {
      "metadata": {
        "trusted": true,
        "_uuid": "b4860b1b9008516a48a262c424f3f9ddd2d22792"
      },
      "cell_type": "code",
      "source": "plt.imshow(img_tensor[0])\nplt.show()",
      "execution_count": null,
      "outputs": []
    },
    {
      "metadata": {
        "trusted": true,
        "_uuid": "08569270fe9de8f1d6ad99f612cbbda96beada8a"
      },
      "cell_type": "code",
      "source": "from keras import models\n\nlayer_outputs = [layer.output for layer in model.layers[:8]]\nactivation_model = models.Model(inputs=model.input, outputs=layer_outputs)",
      "execution_count": null,
      "outputs": []
    },
    {
      "metadata": {
        "trusted": true,
        "_uuid": "0370d2042ac205b8076e88a237cd2a376b3861e9"
      },
      "cell_type": "code",
      "source": "activations = activation_model.predict(img_tensor)\nfirst_layer_activation = activations[0]\nfirst_layer_activation.shape",
      "execution_count": null,
      "outputs": []
    },
    {
      "metadata": {
        "trusted": true,
        "_uuid": "9adc375c71e29f1d1dc5e725112079d5ba8ab8bb"
      },
      "cell_type": "code",
      "source": "plt.matshow(first_layer_activation[0, :, :, 16], cmap='viridis')\nplt.show()",
      "execution_count": null,
      "outputs": []
    },
    {
      "metadata": {
        "trusted": true,
        "_uuid": "0408dd4b343157311db74eb308fca4516940fc83"
      },
      "cell_type": "code",
      "source": "layer_names = []\nfor layer in model.layers[:8]:\n    layer_names.append(layer.name)\n    \nimages_per_row = 16\n\nfor layer_name, layer_activation in zip(layer_names, activations):\n    n_features = layer_activation.shape[-1]\n    size = layer_activation.shape[1]\n    n_cols = n_features // images_per_row\n    display_grid = np.zeros((size*n_cols, images_per_row*size))\n    \n    for col in range(n_cols):\n        for row in range(images_per_row):\n            channel_image = layer_activation[0, :, :, col*images_per_row+row]\n            channel_image -= channel_image.mean()\n            channel_image /= channel_image.std()\n            channel_image *= 64\n            channel_image += 128\n            channel_image = np.clip(channel_image, 0, 255).astype('uint8')\n            display_grid[col * size : (col + 1) * size,\n                        row * size: (row + 1) * size] = channel_image\n            \n        scale = 1./size\n        plt.figure(figsize=(scale*display_grid.shape[1],\n                           scale*display_grid.shape[0]))\n        plt.title(layer_name)\n        plt.grid(False)\n        plt.imshow(display_grid, aspect='auto', cmap='viridis')\n    plt.show()",
      "execution_count": null,
      "outputs": []
    },
    {
      "metadata": {
        "trusted": true,
        "_uuid": "3aa1f1267bade137b12b4f9cad83cec16257ad3f"
      },
      "cell_type": "code",
      "source": "",
      "execution_count": null,
      "outputs": []
    }
  ],
  "metadata": {
    "colab": {
      "name": "convnets.ipynb",
      "version": "0.3.2",
      "provenance": [],
      "collapsed_sections": []
    },
    "kernelspec": {
      "display_name": "Python 3",
      "language": "python",
      "name": "python3"
    },
    "accelerator": "GPU",
    "language_info": {
      "name": "python",
      "version": "3.6.6",
      "mimetype": "text/x-python",
      "codemirror_mode": {
        "name": "ipython",
        "version": 3
      },
      "pygments_lexer": "ipython3",
      "nbconvert_exporter": "python",
      "file_extension": ".py"
    }
  },
  "nbformat": 4,
  "nbformat_minor": 1
}