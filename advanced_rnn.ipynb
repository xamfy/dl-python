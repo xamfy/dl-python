{
  "nbformat": 4,
  "nbformat_minor": 0,
  "metadata": {
    "colab": {
      "name": "advanced_rnn.ipynb",
      "version": "0.3.2",
      "provenance": [],
      "collapsed_sections": []
    },
    "kernelspec": {
      "name": "python3",
      "display_name": "Python 3"
    },
    "accelerator": "GPU"
  },
  "cells": [
    {
      "metadata": {
        "id": "0s8EltXahAF_",
        "colab_type": "code",
        "outputId": "9000414b-8e12-47e7-f0f2-723472323805",
        "colab": {
          "base_uri": "https://localhost:8080/",
          "height": 238
        }
      },
      "cell_type": "code",
      "source": [
        "!mkdir jena_climate\n",
        "!cd jena_climate\n",
        "!wget https://s3.amazonaws.com/keras-datasets/jena_climate_2009_2016.csv.zip\n",
        "!unzip jena_climate_2009_2016.csv.zip"
      ],
      "execution_count": 0,
      "outputs": [
        {
          "output_type": "stream",
          "text": [
            "--2018-11-30 13:56:03--  https://s3.amazonaws.com/keras-datasets/jena_climate_2009_2016.csv.zip\n",
            "Resolving s3.amazonaws.com (s3.amazonaws.com)... 52.216.101.125\n",
            "Connecting to s3.amazonaws.com (s3.amazonaws.com)|52.216.101.125|:443... connected.\n",
            "HTTP request sent, awaiting response... 200 OK\n",
            "Length: 13568290 (13M) [application/zip]\n",
            "Saving to: ‘jena_climate_2009_2016.csv.zip’\n",
            "\n",
            "jena_climate_2009_2 100%[===================>]  12.94M  6.54MB/s    in 2.0s    \n",
            "\n",
            "2018-11-30 13:56:06 (6.54 MB/s) - ‘jena_climate_2009_2016.csv.zip’ saved [13568290/13568290]\n",
            "\n",
            "Archive:  jena_climate_2009_2016.csv.zip\n",
            "  inflating: jena_climate_2009_2016.csv  \n"
          ],
          "name": "stdout"
        }
      ]
    },
    {
      "metadata": {
        "id": "C7zXYSoGjFkH",
        "colab_type": "code",
        "outputId": "522db5cc-5b6b-48dd-fbe1-99d49da06143",
        "colab": {
          "base_uri": "https://localhost:8080/",
          "height": 54
        }
      },
      "cell_type": "code",
      "source": [
        "import os\n",
        "f = open('jena_climate_2009_2016.csv')\n",
        "\n",
        "data = f.read()\n",
        "f.close()\n",
        "\n",
        "lines = data.split('\\n')\n",
        "header = lines[0].split(',')\n",
        "lines = lines[1:]\n",
        "\n",
        "print(header)\n",
        "# print(lines)"
      ],
      "execution_count": 0,
      "outputs": [
        {
          "output_type": "stream",
          "text": [
            "['\"Date Time\"', '\"p (mbar)\"', '\"T (degC)\"', '\"Tpot (K)\"', '\"Tdew (degC)\"', '\"rh (%)\"', '\"VPmax (mbar)\"', '\"VPact (mbar)\"', '\"VPdef (mbar)\"', '\"sh (g/kg)\"', '\"H2OC (mmol/mol)\"', '\"rho (g/m**3)\"', '\"wv (m/s)\"', '\"max. wv (m/s)\"', '\"wd (deg)\"']\n"
          ],
          "name": "stdout"
        }
      ]
    },
    {
      "metadata": {
        "id": "a1JiYZecjgKI",
        "colab_type": "code",
        "colab": {}
      },
      "cell_type": "code",
      "source": [
        "import numpy as np\n",
        "\n",
        "float_data = np.zeros((len(lines), len(header) -1 ))\n",
        "for i, line in enumerate(lines):\n",
        "  values = [float(x) for x in line.split(',')[1:]]\n",
        "  float_data[i, :] = values"
      ],
      "execution_count": 0,
      "outputs": []
    },
    {
      "metadata": {
        "id": "7ckGfbYRjhqU",
        "colab_type": "code",
        "outputId": "5f824d8e-cea1-4059-fb96-5918a548c319",
        "colab": {
          "base_uri": "https://localhost:8080/",
          "height": 367
        }
      },
      "cell_type": "code",
      "source": [
        "import matplotlib.pyplot as plt\n",
        "\n",
        "temp = float_data[:, 1]\n",
        "plt.plot(range(len(temp)), temp)"
      ],
      "execution_count": 0,
      "outputs": [
        {
          "output_type": "execute_result",
          "data": {
            "text/plain": [
              "[<matplotlib.lines.Line2D at 0x7f6517e71c18>]"
            ]
          },
          "metadata": {
            "tags": []
          },
          "execution_count": 4
        },
        {
          "output_type": "display_data",
          "data": {
            "image/png": "[encoded data removed]",
            "text/plain": [
              "<matplotlib.figure.Figure at 0x7f651be43a58>"
            ]
          },
          "metadata": {
            "tags": []
          }
        }
      ]
    },
    {
      "metadata": {
        "id": "rEytVm3Lk604",
        "colab_type": "code",
        "outputId": "c6dbdf3c-0fd2-4510-d5d6-e7937729e87c",
        "colab": {
          "base_uri": "https://localhost:8080/",
          "height": 364
        }
      },
      "cell_type": "code",
      "source": [
        "plt.plot(range(1440), temp[:1440])"
      ],
      "execution_count": 0,
      "outputs": [
        {
          "output_type": "execute_result",
          "data": {
            "text/plain": [
              "[<matplotlib.lines.Line2D at 0x7f65155896d8>]"
            ]
          },
          "metadata": {
            "tags": []
          },
          "execution_count": 5
        },
        {
          "output_type": "display_data",
          "data": {
            "image/png": "[encoded data removed]",
            "text/plain": [
              "<matplotlib.figure.Figure at 0x7f651be43860>"
            ]
          },
          "metadata": {
            "tags": []
          }
        }
      ]
    },
    {
      "metadata": {
        "id": "9JRFZWvclZG0",
        "colab_type": "code",
        "colab": {}
      },
      "cell_type": "code",
      "source": [
        "mean = float_data[:200000].mean(axis=0)\n",
        "float_data -= mean\n",
        "std = float_data[:200000].std(axis=0)\n",
        "float_data /= std"
      ],
      "execution_count": 0,
      "outputs": []
    },
    {
      "metadata": {
        "id": "YVLiZy7S2zZT",
        "colab_type": "code",
        "colab": {}
      },
      "cell_type": "code",
      "source": [
        "def generator(data, lookback, delay, min_index, max_index,\n",
        "              shuffle=False, batch_size=128, step=6):\n",
        "    if max_index is None:\n",
        "        max_index = len(data) - delay - 1\n",
        "    i = min_index + lookback\n",
        "    while 1:\n",
        "        if shuffle:\n",
        "            rows = np.random.randint(\n",
        "                min_index + lookback, max_index, size=batch_size)\n",
        "        else:\n",
        "            if i + batch_size >= max_index:\n",
        "                i = min_index + lookback\n",
        "            rows = np.arange(i, min(i + batch_size, max_index))\n",
        "            i += len(rows)\n",
        "\n",
        "        samples = np.zeros((len(rows),\n",
        "                           lookback // step,\n",
        "                           data.shape[-1]))\n",
        "        targets = np.zeros((len(rows),))\n",
        "        for j, row in enumerate(rows):\n",
        "            indices = range(rows[j] - lookback, rows[j], step)\n",
        "            samples[j] = data[indices]\n",
        "            targets[j] = data[rows[j] + delay][1]\n",
        "        yield samples, targets"
      ],
      "execution_count": 0,
      "outputs": []
    },
    {
      "metadata": {
        "id": "lcgEG_D467Iz",
        "colab_type": "code",
        "colab": {}
      },
      "cell_type": "code",
      "source": [
        "lookback = 1440\n",
        "step = 6\n",
        "delay = 144\n",
        "batch_size = 128\n",
        "\n",
        "train_gen = generator(float_data,\n",
        "                      lookback=lookback,\n",
        "                      delay=delay,\n",
        "                      min_index=0,\n",
        "                      max_index=200000,\n",
        "                      shuffle=True,\n",
        "                      step=step, \n",
        "                      batch_size=batch_size)\n",
        "val_gen = generator(float_data,\n",
        "                    lookback=lookback,\n",
        "                    delay=delay,\n",
        "                    min_index=200001,\n",
        "                    max_index=300000,\n",
        "                    step=step,\n",
        "                    batch_size=batch_size)\n",
        "test_gen = generator(float_data,\n",
        "                     lookback=lookback,\n",
        "                     delay=delay,\n",
        "                     min_index=300001,\n",
        "                     max_index=None,\n",
        "                     step=step,\n",
        "                     batch_size=batch_size)"
      ],
      "execution_count": 0,
      "outputs": []
    },
    {
      "metadata": {
        "id": "y8Yk_-v-7kRB",
        "colab_type": "code",
        "colab": {}
      },
      "cell_type": "code",
      "source": [
        "val_steps = (300000 - 200001 - lookback) // batch_size\n",
        "\n",
        "test_steps = (len(float_data) - 300001 - lookback) // batch_size"
      ],
      "execution_count": 0,
      "outputs": []
    },
    {
      "metadata": {
        "id": "D1PBJkV979UN",
        "colab_type": "code",
        "outputId": "7870a8fe-3757-4ac0-fa51-d247b44b213d",
        "colab": {
          "base_uri": "https://localhost:8080/",
          "height": 34
        }
      },
      "cell_type": "code",
      "source": [
        "def evaluate_naive_method():\n",
        "  batch_maes = []\n",
        "  for step in range(val_steps):\n",
        "    samples, targets = next(val_gen)\n",
        "    preds = samples[:, -1, 1]\n",
        "    mae = np.mean(np.abs(preds - targets))\n",
        "    batch_maes.append(mae)\n",
        "  print(np.mean(batch_maes))\n",
        "  \n",
        "evaluate_naive_method()"
      ],
      "execution_count": 0,
      "outputs": [
        {
          "output_type": "stream",
          "text": [
            "0.2897359729905486\n"
          ],
          "name": "stdout"
        }
      ]
    },
    {
      "metadata": {
        "id": "knMXCJKU9bJb",
        "colab_type": "code",
        "outputId": "20ffccd3-81fa-4ef7-9cf1-4b43340b645d",
        "colab": {
          "base_uri": "https://localhost:8080/",
          "height": 714
        }
      },
      "cell_type": "code",
      "source": [
        "from keras.models import Sequential\n",
        "from keras.layers import Flatten, Dense\n",
        "\n",
        "model = Sequential()\n",
        "model.add(Flatten(input_shape=(lookback // step, float_data.shape[-1])))\n",
        "model.add(Dense(32, activation='relu'))\n",
        "model.add(Dense(1))\n",
        "\n",
        "model.compile(optimizer='rmsprop', loss='mae')\n",
        "history = model.fit_generator(train_gen,\n",
        "                             steps_per_epoch=500,\n",
        "                             epochs=20,\n",
        "                             validation_data=val_gen,\n",
        "                             validation_steps=val_steps)"
      ],
      "execution_count": 0,
      "outputs": [
        {
          "output_type": "stream",
          "text": [
            "Using TensorFlow backend.\n"
          ],
          "name": "stderr"
        },
        {
          "output_type": "stream",
          "text": [
            "Epoch 1/20\n",
            "500/500 [==============================] - 17s 33ms/step - loss: 1.3754 - val_loss: 0.7636\n",
            "Epoch 2/20\n",
            "500/500 [==============================] - 14s 28ms/step - loss: 0.4531 - val_loss: 0.3310\n",
            "Epoch 3/20\n",
            "500/500 [==============================] - 14s 28ms/step - loss: 0.2934 - val_loss: 0.3005\n",
            "Epoch 4/20\n",
            "500/500 [==============================] - 14s 28ms/step - loss: 0.2663 - val_loss: 0.3348\n",
            "Epoch 5/20\n",
            "500/500 [==============================] - 14s 28ms/step - loss: 0.2513 - val_loss: 0.3267\n",
            "Epoch 6/20\n",
            "500/500 [==============================] - 14s 28ms/step - loss: 0.2416 - val_loss: 0.3146\n",
            "Epoch 7/20\n",
            "500/500 [==============================] - 14s 27ms/step - loss: 0.2356 - val_loss: 0.3307\n",
            "Epoch 8/20\n",
            "500/500 [==============================] - 14s 28ms/step - loss: 0.2289 - val_loss: 0.3220\n",
            "Epoch 9/20\n",
            "500/500 [==============================] - 14s 27ms/step - loss: 0.2244 - val_loss: 0.3372\n",
            "Epoch 10/20\n",
            "500/500 [==============================] - 14s 27ms/step - loss: 0.2205 - val_loss: 0.3165\n",
            "Epoch 11/20\n",
            "500/500 [==============================] - 14s 28ms/step - loss: 0.2173 - val_loss: 0.3358\n",
            "Epoch 12/20\n",
            "500/500 [==============================] - 14s 27ms/step - loss: 0.2150 - val_loss: 0.3246\n",
            "Epoch 13/20\n",
            "500/500 [==============================] - 14s 27ms/step - loss: 0.2131 - val_loss: 0.3383\n",
            "Epoch 14/20\n",
            "500/500 [==============================] - 14s 27ms/step - loss: 0.2095 - val_loss: 0.3338\n",
            "Epoch 15/20\n",
            "500/500 [==============================] - 15s 29ms/step - loss: 0.2079 - val_loss: 0.3324\n",
            "Epoch 16/20\n",
            "500/500 [==============================] - 14s 27ms/step - loss: 0.2065 - val_loss: 0.3307\n",
            "Epoch 17/20\n",
            "500/500 [==============================] - 14s 27ms/step - loss: 0.2035 - val_loss: 0.3398\n",
            "Epoch 18/20\n",
            "500/500 [==============================] - 14s 27ms/step - loss: 0.2031 - val_loss: 0.3480\n",
            "Epoch 19/20\n",
            "500/500 [==============================] - 14s 28ms/step - loss: 0.2001 - val_loss: 0.3370\n",
            "Epoch 20/20\n",
            "500/500 [==============================] - 14s 28ms/step - loss: 0.1996 - val_loss: 0.3431\n"
          ],
          "name": "stdout"
        }
      ]
    },
    {
      "metadata": {
        "id": "xVHzhE7B_2KP",
        "colab_type": "code",
        "outputId": "0f879d72-0c7b-4689-c16f-32a9b15876b3",
        "colab": {
          "base_uri": "https://localhost:8080/",
          "height": 362
        }
      },
      "cell_type": "code",
      "source": [
        "import matplotlib.pyplot as plt\n",
        "\n",
        "loss = history.history['loss']\n",
        "val_loss = history.history['val_loss']\n",
        "\n",
        "epochs = range(len(loss))\n",
        "\n",
        "plt.figure()\n",
        "\n",
        "plt.plot(epochs, loss, 'bo', label='Training loss')\n",
        "plt.plot(epochs, val_loss, 'b', label='Validation loss')\n",
        "plt.title('Training and validation loss')\n",
        "plt.legend()\n",
        "\n",
        "plt.show()"
      ],
      "execution_count": 0,
      "outputs": [
        {
          "output_type": "display_data",
          "data": {
            "image/png": "[encoded data removed]",
            "text/plain": [
              "<matplotlib.figure.Figure at 0x7f65155ba4a8>"
            ]
          },
          "metadata": {
            "tags": []
          }
        }
      ]
    },
    {
      "metadata": {
        "id": "vv-0_5C5AHBr",
        "colab_type": "code",
        "outputId": "6d341150-0ed0-4a43-ee06-98e9a247ad49",
        "colab": {
          "base_uri": "https://localhost:8080/",
          "height": 697
        }
      },
      "cell_type": "code",
      "source": [
        "from keras.models import Sequential\n",
        "from keras.layers import GRU, Dense\n",
        "from keras.optimizers import RMSprop\n",
        "\n",
        "model = Sequential()\n",
        "model.add(GRU(32, input_shape=(None, float_data.shape[-1])))\n",
        "model.add(Dense(1))\n",
        "\n",
        "model.compile(optimizer=RMSprop(), loss='mae')\n",
        "\n",
        "history = model.fit_generator(train_gen,\n",
        "                             steps_per_epoch=500,\n",
        "                             epochs=20,\n",
        "                             validation_data=val_gen,\n",
        "                             validation_steps=val_steps)"
      ],
      "execution_count": 0,
      "outputs": [
        {
          "output_type": "stream",
          "text": [
            "Epoch 1/20\n",
            "500/500 [==============================] - 285s 570ms/step - loss: 0.2986 - val_loss: 0.2669\n",
            "Epoch 2/20\n",
            "500/500 [==============================] - 284s 568ms/step - loss: 0.2811 - val_loss: 0.2660\n",
            "Epoch 3/20\n",
            "500/500 [==============================] - 285s 569ms/step - loss: 0.2759 - val_loss: 0.2624\n",
            "Epoch 4/20\n",
            "500/500 [==============================] - 283s 565ms/step - loss: 0.2700 - val_loss: 0.2618\n",
            "Epoch 5/20\n",
            "500/500 [==============================] - 284s 568ms/step - loss: 0.2656 - val_loss: 0.2617\n",
            "Epoch 6/20\n",
            "500/500 [==============================] - 284s 567ms/step - loss: 0.2616 - val_loss: 0.2666\n",
            "Epoch 7/20\n",
            "500/500 [==============================] - 285s 570ms/step - loss: 0.2575 - val_loss: 0.2693\n",
            "Epoch 8/20\n",
            "500/500 [==============================] - 286s 572ms/step - loss: 0.2540 - val_loss: 0.2659\n",
            "Epoch 9/20\n",
            "500/500 [==============================] - 285s 570ms/step - loss: 0.2497 - val_loss: 0.2654\n",
            "Epoch 10/20\n",
            "500/500 [==============================] - 286s 572ms/step - loss: 0.2469 - val_loss: 0.2694\n",
            "Epoch 11/20\n",
            "500/500 [==============================] - 285s 571ms/step - loss: 0.2428 - val_loss: 0.2754\n",
            "Epoch 12/20\n",
            "500/500 [==============================] - 285s 570ms/step - loss: 0.2382 - val_loss: 0.2778\n",
            "Epoch 13/20\n",
            "500/500 [==============================] - 286s 572ms/step - loss: 0.2368 - val_loss: 0.2802\n",
            "Epoch 14/20\n",
            "500/500 [==============================] - 284s 568ms/step - loss: 0.2321 - val_loss: 0.2833\n",
            "Epoch 15/20\n",
            "500/500 [==============================] - 286s 571ms/step - loss: 0.2286 - val_loss: 0.2816\n",
            "Epoch 16/20\n",
            "500/500 [==============================] - 285s 570ms/step - loss: 0.2253 - val_loss: 0.2831\n",
            "Epoch 17/20\n",
            "500/500 [==============================] - 285s 569ms/step - loss: 0.2212 - val_loss: 0.2813\n",
            "Epoch 18/20\n",
            "500/500 [==============================] - 284s 568ms/step - loss: 0.2186 - val_loss: 0.2902\n",
            "Epoch 19/20\n",
            "500/500 [==============================] - 283s 565ms/step - loss: 0.2145 - val_loss: 0.2922\n",
            "Epoch 20/20\n",
            "500/500 [==============================] - 283s 566ms/step - loss: 0.2101 - val_loss: 0.2941\n"
          ],
          "name": "stdout"
        }
      ]
    },
    {
      "metadata": {
        "id": "fwlt5oit6sye",
        "colab_type": "code",
        "outputId": "f411027f-a1aa-4782-9b67-646f8c19254f",
        "colab": {
          "base_uri": "https://localhost:8080/",
          "height": 362
        }
      },
      "cell_type": "code",
      "source": [
        "loss = history.history['loss']\n",
        "val_loss = history.history['val_loss']\n",
        "\n",
        "epochs = range(len(loss))\n",
        "\n",
        "plt.figure()\n",
        "\n",
        "plt.plot(epochs, loss, 'bo', label='Training loss')\n",
        "plt.plot(epochs, val_loss, 'b', label='Validation loss')\n",
        "plt.title('Training and validation loss')\n",
        "plt.legend()\n",
        "\n",
        "plt.show()"
      ],
      "execution_count": 0,
      "outputs": [
        {
          "output_type": "display_data",
          "data": {
            "image/png": "[encoded data removed]",
            "text/plain": [
              "<matplotlib.figure.Figure at 0x7f64d5ebabe0>"
            ]
          },
          "metadata": {
            "tags": []
          }
        }
      ]
    },
    {
      "metadata": {
        "id": "Rihz04dB8hG2",
        "colab_type": "code",
        "colab": {}
      },
      "cell_type": "code",
      "source": [
        "from keras.models import Sequential\n",
        "from keras.layers import GRU, Dense\n",
        "from keras.optimizers import RMSprop\n",
        "\n",
        "model = Sequential()\n",
        "model.add(GRU(32,\n",
        "              dropout=0.2,\n",
        "              recurrent_dropout=0.2,\n",
        "              input_shape=(None, float_data.shape[-1])))\n",
        "model.add(Dense(1))\n",
        "\n",
        "model.compile(optimizer=RMSprop(), loss='mae')\n",
        "\n",
        "history = model.fit_generator(train_gen,\n",
        "                             steps_per_epoch=500,\n",
        "                             epochs=40,\n",
        "                             validation_data=val_gen,\n",
        "                             validation_steps=val_steps)"
      ],
      "execution_count": 0,
      "outputs": []
    },
    {
      "metadata": {
        "id": "bLq7xO0J8o68",
        "colab_type": "code",
        "colab": {}
      },
      "cell_type": "code",
      "source": [
        "loss = history.history['loss']\n",
        "val_loss = history.history['val_loss']\n",
        "\n",
        "epochs = range(len(loss))\n",
        "\n",
        "plt.figure()\n",
        "\n",
        "plt.plot(epochs, loss, 'bo', label='Training loss')\n",
        "plt.plot(epochs, val_loss, 'b', label='Validation loss')\n",
        "plt.title('Training and validation loss')\n",
        "plt.legend()\n",
        "\n",
        "plt.show()"
      ],
      "execution_count": 0,
      "outputs": []
    },
    {
      "metadata": {
        "id": "5D6pu1cx8qcO",
        "colab_type": "code",
        "outputId": "2fdf2376-a6ec-4fbb-ca61-9b978e21497b",
        "colab": {
          "base_uri": "https://localhost:8080/",
          "height": 1139
        }
      },
      "cell_type": "code",
      "source": [
        "from keras.models import Sequential\n",
        "from keras import layers\n",
        "from keras.optimizers import RMSprop\n",
        "\n",
        "model = Sequential()\n",
        "model.add(layers.GRU(32,\n",
        "                     dropout=0.1,\n",
        "                     recurrent_dropout=0.5,\n",
        "                     return_sequences=True,\n",
        "                     input_shape=(None, float_data.shape[-1])))\n",
        "model.add(layers.GRU(64, activation='relu',\n",
        "                     dropout=0.1, \n",
        "                     recurrent_dropout=0.5))\n",
        "model.add(layers.Dense(1))\n",
        "\n",
        "model.compile(optimizer=RMSprop(), loss='mae')\n",
        "history = model.fit_generator(train_gen,\n",
        "                              steps_per_epoch=500,\n",
        "                              epochs=40,\n",
        "                              validation_data=val_gen,\n",
        "                              validation_steps=val_steps)"
      ],
      "execution_count": 0,
      "outputs": [
        {
          "output_type": "stream",
          "text": [
            "Epoch 1/40\n",
            "500/500 [==============================] - 661s 1s/step - loss: 0.3353 - val_loss: 0.2763\n",
            "Epoch 2/40\n",
            "500/500 [==============================] - 662s 1s/step - loss: 0.3123 - val_loss: 0.2732\n",
            "Epoch 3/40\n",
            "500/500 [==============================] - 659s 1s/step - loss: 0.3083 - val_loss: 0.2790\n",
            "Epoch 4/40\n",
            "500/500 [==============================] - 661s 1s/step - loss: 0.3013 - val_loss: 0.2695\n",
            "Epoch 5/40\n",
            "500/500 [==============================] - 660s 1s/step - loss: 0.2963 - val_loss: 0.2688\n",
            "Epoch 6/40\n",
            "500/500 [==============================] - 661s 1s/step - loss: 0.2951 - val_loss: 0.2651\n",
            "Epoch 7/40\n",
            "500/500 [==============================] - 660s 1s/step - loss: 0.2903 - val_loss: 0.2696\n",
            "Epoch 8/40\n",
            "500/500 [==============================] - 660s 1s/step - loss: 0.2872 - val_loss: 0.2697\n",
            "Epoch 9/40\n",
            "500/500 [==============================] - 660s 1s/step - loss: 0.2845 - val_loss: 0.2663\n",
            "Epoch 10/40\n",
            "500/500 [==============================] - 659s 1s/step - loss: 0.2828 - val_loss: 0.2657\n",
            "Epoch 11/40\n",
            "500/500 [==============================] - 657s 1s/step - loss: 0.2810 - val_loss: 0.2671\n",
            "Epoch 12/40\n",
            "500/500 [==============================] - 655s 1s/step - loss: 0.2780 - val_loss: 0.2678\n",
            "Epoch 13/40\n",
            "500/500 [==============================] - 658s 1s/step - loss: 0.2785 - val_loss: 0.2664\n",
            "Epoch 14/40\n",
            "500/500 [==============================] - 659s 1s/step - loss: 0.2750 - val_loss: 0.2743\n",
            "Epoch 15/40\n",
            "500/500 [==============================] - 659s 1s/step - loss: 0.2742 - val_loss: 0.2815\n",
            "Epoch 16/40\n",
            "500/500 [==============================] - 659s 1s/step - loss: 0.2721 - val_loss: 0.2687\n",
            "Epoch 17/40\n",
            "500/500 [==============================] - 661s 1s/step - loss: 0.2715 - val_loss: 0.2706\n",
            "Epoch 18/40\n",
            "500/500 [==============================] - 657s 1s/step - loss: 0.2698 - val_loss: 0.2699\n",
            "Epoch 19/40\n",
            "500/500 [==============================] - 660s 1s/step - loss: 0.2685 - val_loss: 0.2724\n",
            "Epoch 20/40\n",
            "500/500 [==============================] - 662s 1s/step - loss: 0.2685 - val_loss: 0.2700\n",
            "Epoch 21/40\n",
            "500/500 [==============================] - 670s 1s/step - loss: 0.2640 - val_loss: 0.2722\n",
            "Epoch 22/40\n",
            "500/500 [==============================] - 691s 1s/step - loss: 0.2655 - val_loss: 0.2746\n",
            "Epoch 23/40\n",
            "500/500 [==============================] - 668s 1s/step - loss: 0.2641 - val_loss: 0.2718\n",
            "Epoch 24/40\n",
            "500/500 [==============================] - 665s 1s/step - loss: 0.2632 - val_loss: 0.2780\n",
            "Epoch 25/40\n",
            "500/500 [==============================] - 667s 1s/step - loss: 0.2630 - val_loss: 0.2700\n",
            "Epoch 26/40\n",
            "500/500 [==============================] - 667s 1s/step - loss: 0.2608 - val_loss: 0.2747\n",
            "Epoch 27/40\n",
            "500/500 [==============================] - 665s 1s/step - loss: 0.2607 - val_loss: 0.2716\n",
            "Epoch 28/40\n",
            "500/500 [==============================] - 668s 1s/step - loss: 0.2609 - val_loss: 0.2747\n",
            "Epoch 29/40\n",
            "500/500 [==============================] - 666s 1s/step - loss: 0.2607 - val_loss: 0.2753\n",
            "Epoch 30/40\n",
            "500/500 [==============================] - 673s 1s/step - loss: 0.2588 - val_loss: 0.2733\n",
            "Epoch 31/40\n",
            "500/500 [==============================] - 667s 1s/step - loss: 0.2591 - val_loss: 0.2724\n",
            "Epoch 32/40\n",
            "500/500 [==============================] - 657s 1s/step - loss: 0.2573 - val_loss: 0.2868\n",
            "Epoch 33/40\n",
            " 52/500 [==>...........................] - ETA: 7:04 - loss: 0.2554"
          ],
          "name": "stdout"
        }
      ]
    },
    {
      "metadata": {
        "id": "wD4ptLZr9_X1",
        "colab_type": "code",
        "colab": {}
      },
      "cell_type": "code",
      "source": [
        "loss = history.history['loss']\n",
        "val_loss = history.history['val_loss']\n",
        "\n",
        "epochs = range(len(loss))\n",
        "\n",
        "plt.figure()\n",
        "\n",
        "plt.plot(epochs, loss, 'bo', label='Training loss')\n",
        "plt.plot(epochs, val_loss, 'b', label='Validation loss')\n",
        "plt.title('Training and validation loss')\n",
        "plt.legend()\n",
        "\n",
        "plt.show()"
      ],
      "execution_count": 0,
      "outputs": []
    },
    {
      "metadata": {
        "id": "PBDSrFTG-DMA",
        "colab_type": "code",
        "colab": {}
      },
      "cell_type": "code",
      "source": [
        ""
      ],
      "execution_count": 0,
      "outputs": []
    }
  ]
}